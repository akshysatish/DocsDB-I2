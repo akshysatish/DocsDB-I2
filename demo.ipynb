{
 "cells": [
  {
   "attachments": {},
   "cell_type": "markdown",
   "metadata": {},
   "source": [
    "### Database connection setup:"
   ]
  },
  {
   "cell_type": "code",
   "execution_count": null,
   "metadata": {},
   "outputs": [],
   "source": [
    "import DB_engine_latest as DB\n",
    "import json\n",
    "import pickle\n",
    "import pandas as pd\n",
    "import numpy as np\n",
    "client = DB.Connection()"
   ]
  },
  {
   "attachments": {},
   "cell_type": "markdown",
   "metadata": {},
   "source": [
    "### Create database"
   ]
  },
  {
   "cell_type": "code",
   "execution_count": null,
   "metadata": {},
   "outputs": [],
   "source": [
    "client.create_db('db2')"
   ]
  },
  {
   "attachments": {},
   "cell_type": "markdown",
   "metadata": {},
   "source": [
    "### Create sample data"
   ]
  },
  {
   "cell_type": "code",
   "execution_count": null,
   "metadata": {},
   "outputs": [],
   "source": [
    "n = 10\n",
    "salary = np.random.randint(low=0, high=10000, size=n)\n",
    "gender = np.random.choice(['male', 'female'], size = n)\n",
    "year = np.random.choice(['freshman', 'junior', 'soph', 'senior'], size = n)\n",
    "df = pd.DataFrame({'salary':salary, 'gender':gender, 'year':year})"
   ]
  },
  {
   "attachments": {},
   "cell_type": "markdown",
   "metadata": {},
   "source": [
    "### Create collection and insert data"
   ]
  },
  {
   "cell_type": "code",
   "execution_count": null,
   "metadata": {},
   "outputs": [],
   "source": [
    "client.db2.create_collection('col2')\n",
    "collection = df.to_dict('records')\n",
    "client.db2.col2.insert(collection)"
   ]
  },
  {
   "attachments": {},
   "cell_type": "markdown",
   "metadata": {},
   "source": [
    "### View the primary index"
   ]
  },
  {
   "cell_type": "code",
   "execution_count": null,
   "metadata": {},
   "outputs": [],
   "source": [
    "path4 = \"C:\\\\Users\\\\aksha\\\\Downloads\\\\DocsDB-I2\\\\DocsDB-I2\\\\localhost\\\\db2\\\\col2__id.pkl\"\n",
    "with open(path4, \"rb\") as f:\n",
    "    test = pickle.load(f)\n",
    "test.show()"
   ]
  },
  {
   "attachments": {},
   "cell_type": "markdown",
   "metadata": {},
   "source": [
    "### Read documents using conditions and projections with indexes"
   ]
  },
  {
   "cell_type": "code",
   "execution_count": null,
   "metadata": {},
   "outputs": [],
   "source": [
    "client.db2.col2.indexedreadSpecific({},{})"
   ]
  },
  {
   "cell_type": "code",
   "execution_count": null,
   "metadata": {},
   "outputs": [],
   "source": [
    "client.db2.col2.indexedreadSpecific({\"$project\": {\"name\": 0, \"age\": 1}}, {})"
   ]
  },
  {
   "cell_type": "code",
   "execution_count": null,
   "metadata": {},
   "outputs": [],
   "source": [
    "client.db2.col2.indexedreadSpecific({},{\"$or\": [{\"salary\": {\"$gt\": 1000}},{\"gender\": 'female'}]})"
   ]
  },
  {
   "attachments": {},
   "cell_type": "markdown",
   "metadata": {},
   "source": [
    "### Delete documents and related index entries"
   ]
  },
  {
   "cell_type": "code",
   "execution_count": null,
   "metadata": {},
   "outputs": [],
   "source": [
    "client.db2.col2.indexdelete({\"salary\": {\"$lte\": 1000}})"
   ]
  },
  {
   "attachments": {},
   "cell_type": "markdown",
   "metadata": {},
   "source": [
    "### Create and view indexes"
   ]
  },
  {
   "cell_type": "code",
   "execution_count": null,
   "metadata": {},
   "outputs": [],
   "source": [
    "client.db2.col2.createSecondaryIndex('year', 200)"
   ]
  },
  {
   "cell_type": "code",
   "execution_count": null,
   "metadata": {},
   "outputs": [],
   "source": [
    "path4 = \"C:\\\\Users\\\\aksha\\\\Desktop\\\\Spring2023\\\\CS541Project\\\\DocsDB-I2\\\\localhost\\\\db2\\\\col2_year.pkl\"\n",
    "with open(path4, \"rb\") as f:\n",
    "    test = pickle.load(f)\n",
    "test.show()"
   ]
  },
  {
   "cell_type": "markdown",
   "metadata": {},
   "source": [
    "### Update documents from a collection:\n",
    "update(conditionDoc, updateDoc)\n",
    "- conditionDoc defines match conditions.\n",
    "- updateDoc defines changes to be made. Can use following operators to specify: $set, $unset, $inc, $dec, $mul, $div, $rename"
   ]
  },
  {
   "cell_type": "code",
   "execution_count": null,
   "metadata": {},
   "outputs": [],
   "source": [
    "client.db2.col2.update({\"salary\": {\"$lte\": 1000}}, {\"salary\": 1000})"
   ]
  },
  {
   "attachments": {},
   "cell_type": "markdown",
   "metadata": {},
   "source": [
    "### Text search"
   ]
  },
  {
   "cell_type": "code",
   "execution_count": null,
   "metadata": {},
   "outputs": [],
   "source": [
    "# Search in an attribute\n",
    "client.db2.col2.indexedreadSpecific({},{\"gender\": {\"$gte\": 'fem'}})"
   ]
  },
  {
   "cell_type": "code",
   "execution_count": null,
   "metadata": {},
   "outputs": [],
   "source": [
    "# Search anywhere in entire collection \n",
    "import utils\n",
    "path4 = \"C:\\\\Users\\\\aksha\\\\Desktop\\\\Spring2023\\\\CS541Project\\\\DocsDB-I2\\\\localhost\\\\db2\\\\col2_year.pkl\"\n",
    "with open(path4, \"rb\") as f:\n",
    "    test = pickle.load(f)\n",
    "utils.search_nested_dict(test.retrieve_all(), 'se')"
   ]
  }
 ],
 "metadata": {
  "kernelspec": {
   "display_name": "base",
   "language": "python",
   "name": "python3"
  },
  "language_info": {
   "codemirror_mode": {
    "name": "ipython",
    "version": 3
   },
   "file_extension": ".py",
   "mimetype": "text/x-python",
   "name": "python",
   "nbconvert_exporter": "python",
   "pygments_lexer": "ipython3",
   "version": "3.9.13"
  },
  "orig_nbformat": 4
 },
 "nbformat": 4,
 "nbformat_minor": 2
}
