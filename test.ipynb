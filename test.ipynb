{
 "cells": [
  {
   "attachments": {},
   "cell_type": "markdown",
   "metadata": {},
   "source": [
    "### Connect to the database engine"
   ]
  },
  {
   "cell_type": "code",
   "execution_count": 1,
   "metadata": {},
   "outputs": [],
   "source": [
    "import DB_engine_latest as DB\n",
    "\n",
    "client = DB.Connection()"
   ]
  },
  {
   "attachments": {},
   "cell_type": "markdown",
   "metadata": {},
   "source": [
    " \n",
    "### Create a database by giving a name"
   ]
  },
  {
   "cell_type": "code",
   "execution_count": 2,
   "metadata": {},
   "outputs": [],
   "source": [
    "client.create_db('db1')"
   ]
  },
  {
   "attachments": {},
   "cell_type": "markdown",
   "metadata": {},
   "source": [
    "### Create a collection by giving the collection name"
   ]
  },
  {
   "cell_type": "code",
   "execution_count": 3,
   "metadata": {},
   "outputs": [],
   "source": [
    "client.db1.create_collection('abc')"
   ]
  },
  {
   "attachments": {},
   "cell_type": "markdown",
   "metadata": {},
   "source": [
    "### Insert data(documents) into the collection"
   ]
  },
  {
   "cell_type": "code",
   "execution_count": 4,
   "metadata": {},
   "outputs": [
    {
     "data": {
      "text/plain": [
       "['6059881e-9c8e-40c8-ab9c-b4a9ee8340cc']"
      ]
     },
     "execution_count": 4,
     "metadata": {},
     "output_type": "execute_result"
    }
   ],
   "source": [
    "client.db1.abc.insert({\"name\": \"ryan\", \"age\": 24, \"address\" : {\"street\" : \"neil armstrong\", \"city\" : \"WL\"}})\n",
    "client.db1.abc.insert('[{\"name\": \"ryan\", \"age\": 24}]')\n",
    "client.db1.abc.insert('[{\"name\": \"yash\", \"age\": 24}]')"
   ]
  },
  {
   "attachments": {},
   "cell_type": "markdown",
   "metadata": {},
   "source": [
    "### Delete documents by specifying a condition"
   ]
  },
  {
   "cell_type": "code",
   "execution_count": null,
   "metadata": {},
   "outputs": [],
   "source": [
    "client.db1.abc.delete({\"$or\": [{\"name\": \"sam\"},{\"age\":{\"$eq\": 24}}]})"
   ]
  },
  {
   "attachments": {},
   "cell_type": "markdown",
   "metadata": {},
   "source": [
    "### Read all documents in collection \n",
    "Also, can read specific columns of all documents using $project operator"
   ]
  },
  {
   "cell_type": "code",
   "execution_count": 5,
   "metadata": {},
   "outputs": [
    {
     "data": {
      "text/plain": [
       "[{'name': 'ryan',\n",
       "  'age': 24,\n",
       "  'address': {'street': 'neil armstrong', 'city': 'WL'},\n",
       "  '_id': 'a4078445-000c-4719-b1a8-f8bc724a1a48'},\n",
       " {'name': 'ryan', 'age': 24, '_id': '8bf75df9-e385-4e95-98de-d2e270178185'},\n",
       " {'name': 'yash', 'age': 24, '_id': '6059881e-9c8e-40c8-ab9c-b4a9ee8340cc'}]"
      ]
     },
     "execution_count": 5,
     "metadata": {},
     "output_type": "execute_result"
    }
   ],
   "source": [
    "client.db1.abc.readAll('{\"$project\": {\"name\": 0, \"age\": 1}}')\n",
    "client.db1.abc.readAll('{}')"
   ]
  },
  {
   "attachments": {},
   "cell_type": "markdown",
   "metadata": {},
   "source": [
    "#### Read specific documents in collection: \n",
    "readSpecific(projectionDoc, conditionDoc)\n",
    "- projectionDoc defines columns to read using $project operator\n",
    "- conditionDoc defines match conditions. Can use $and as well as $or to specify complex conditions"
   ]
  },
  {
   "cell_type": "code",
   "execution_count": 11,
   "metadata": {},
   "outputs": [
    {
     "name": "stdout",
     "output_type": "stream",
     "text": [
      "[{'a4078445-000c-4719-b1a8-f8bc724a1a48'}]\n",
      "[{'name': 'ryan', 'age': 24, 'address': {'street': 'neil armstrong', 'city': 'WL'}, '_id': 'a4078445-000c-4719-b1a8-f8bc724a1a48'}]\n"
     ]
    },
    {
     "data": {
      "text/plain": [
       "[{'name': 'ryan',\n",
       "  'age': 24,\n",
       "  'address': {'street': 'neil armstrong', 'city': 'WL'},\n",
       "  '_id': 'a4078445-000c-4719-b1a8-f8bc724a1a48'}]"
      ]
     },
     "execution_count": 11,
     "metadata": {},
     "output_type": "execute_result"
    }
   ],
   "source": [
    "#client.db1.abc.readSpecific('{\"$project\": {\"name\": 0, \"age\": 1}}','{\"age\": {\"$gt\": 29}}')\n",
    "\n",
    "#client.db1.abc.readSpecific('{}','{\"$or\": [{\"name\": \"sam\"},{\"age\":{\"$lte\": 25}}]}')\n",
    "\n",
    "client.db1.abc.readSpecific('{}','{\"$and\": [{\"name\": \"ryan\"},{\"age\":{\"$gt\": 23}}, {\"address\": {\"city\": \"WL\"}}]}')\n",
    "#client.db1.abc.readSpecific('{}',{\"address\": {\"city\": \"WL\"}})\n"
   ]
  },
  {
   "attachments": {},
   "cell_type": "markdown",
   "metadata": {},
   "source": [
    "### Update documents from a collection:\n",
    "update(conditionDoc, updateDoc)\n",
    "- conditionDoc defines match conditions.\n",
    "- updateDoc defines changes to be made. Can use following operators to specify: $set, $unset, $inc, $dec, $mul, $div, $rename"
   ]
  },
  {
   "cell_type": "code",
   "execution_count": null,
   "metadata": {},
   "outputs": [],
   "source": [
    "client.db1.abc.update({\"name\": \"ryan\"},{\"$rename\": {\"agee\": \"age\"}, \"$set\": {\"age\":25}})\n"
   ]
  }
 ],
 "metadata": {
  "kernelspec": {
   "display_name": "base",
   "language": "python",
   "name": "python3"
  },
  "language_info": {
   "codemirror_mode": {
    "name": "ipython",
    "version": 3
   },
   "file_extension": ".py",
   "mimetype": "text/x-python",
   "name": "python",
   "nbconvert_exporter": "python",
   "pygments_lexer": "ipython3",
   "version": "3.9.13"
  },
  "orig_nbformat": 4
 },
 "nbformat": 4,
 "nbformat_minor": 2
}
